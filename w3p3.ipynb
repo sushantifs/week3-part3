{
 "cells": [
  {
   "cell_type": "markdown",
   "metadata": {},
   "source": [
    "# Peer-graded Assignment: Segmenting and Clustering Neighborhoods in Toronto Part 3\n",
    "### Import all dependencies"
   ]
  },
  {
   "cell_type": "code",
   "execution_count": 226,
   "metadata": {},
   "outputs": [],
   "source": [
    "import pandas as pd\n",
    "import numpy as np\n",
    "from bs4 import BeautifulSoup\n",
    "import requests\n",
    "from bs4 import BeautifulSoup as bs\n",
    "from geopy.geocoders import Nominatim\n",
    "import json\n",
    "from pandas.io.json import json_normalize\n",
    "\n",
    "# Matplotlib and associated plotting modules\n",
    "import matplotlib.cm as cm\n",
    "import matplotlib.colors as colors"
   ]
  },
  {
   "cell_type": "code",
   "execution_count": 227,
   "metadata": {},
   "outputs": [],
   "source": [
    "df = pd.read_csv(\"com_df.csv\")"
   ]
  },
  {
   "cell_type": "code",
   "execution_count": null,
   "metadata": {},
   "outputs": [],
   "source": [
    "df = df[df['Borough'].isin(['Scarborough'])].reset_index(drop=True)\n",
    "df"
   ]
  },
  {
   "cell_type": "code",
   "execution_count": null,
   "metadata": {},
   "outputs": [],
   "source": [
    "address = 'Toronto,Canada'\n",
    "geolocator = Nominatim(user_agent=\"totonto_explorer\")\n",
    "location = geolocator.geocode(address)\n",
    "latitude = location.latitude\n",
    "longitude = location.longitude"
   ]
  },
  {
   "cell_type": "code",
   "execution_count": null,
   "metadata": {},
   "outputs": [],
   "source": [
    "toronto_map = folium.Map(location=[latitude,longitude],zoom_start=11)\n",
    "for lat, long, label in zip(com_df['Latitude'],com_df['Longitude'],com_df['Neighbourhood']):\n",
    "    label = folium.Popup(label, parse_html=True)\n",
    "    folium.CircleMarker(\n",
    "        [lat,long],\n",
    "        radius=5,\n",
    "        popup=label,\n",
    "        color='blue',\n",
    "        fill=True,\n",
    "        fill_color='#3186cc',\n",
    "        opacity=.7,\n",
    "        parse_html=False\n",
    "    ).add_to(toronto_map)\n",
    "toronto_map"
   ]
  },
  {
   "cell_type": "markdown",
   "metadata": {},
   "source": [
    "## Define Credentials"
   ]
  },
  {
   "cell_type": "code",
   "execution_count": null,
   "metadata": {},
   "outputs": [],
   "source": [
    "CLIENT_ID = '542EBQ0BI4DQNRPN2C15P5Y2O4FGLRFHBE1QNJJRVPSBVXCU' \n",
    "CLIENT_SECRET = 'O5PZHMPAJBVFXFZYFZPSRZCRTLAANVGZXONZTOMD0TKTXDEZ'\n",
    "VERSION = '20180605' \n",
    "LIMIT = 100\n",
    "RADIUS=500"
   ]
  },
  {
   "cell_type": "markdown",
   "metadata": {},
   "source": [
    "### Define Function which may call"
   ]
  },
  {
   "cell_type": "code",
   "execution_count": null,
   "metadata": {},
   "outputs": [],
   "source": [
    "def getNearbyVenues(names, latitudes, longitudes, radius=500):\n",
    "    venues_list=[]\n",
    "    for name, lat, lng in zip(names, latitudes, longitudes):\n",
    "        print(name)\n",
    "            \n",
    "        # create the API request URL\n",
    "        url = 'https://api.foursquare.com/v2/venues/explore?&client_id={}&client_secret={}&v={}&ll={},{}&radius={}&limit={}'.format(\n",
    "            CLIENT_ID, \n",
    "            CLIENT_SECRET, \n",
    "            VERSION, \n",
    "            lat, \n",
    "            lng, \n",
    "            radius, \n",
    "            LIMIT)\n",
    "            \n",
    "        # make the GET request\n",
    "        results = requests.get(url).json()[\"response\"]['groups'][0]['items']\n",
    "        \n",
    "        # return only relevant information for each nearby venue\n",
    "        venues_list.append([(\n",
    "            name, \n",
    "            lat, \n",
    "            lng, \n",
    "            v['venue']['name'], \n",
    "            v['venue']['location']['lat'], \n",
    "            v['venue']['location']['lng'],  \n",
    "            v['venue']['categories'][0]['name']) for v in results])\n",
    "\n",
    "    nearby_venues = pd.DataFrame([item for venue_list in venues_list for item in venue_list])\n",
    "    nearby_venues.columns = ['Neighborhood', \n",
    "                  'Neighborhood Latitude', \n",
    "                  'Neighborhood Longitude', \n",
    "                  'Venue', \n",
    "                  'Venue Latitude', \n",
    "                  'Venue Longitude', \n",
    "                  'Venue Category']\n",
    "    \n",
    "    return(nearby_venues)"
   ]
  },
  {
   "cell_type": "markdown",
   "metadata": {},
   "source": [
    "### Call getNearByVenues function for all venues"
   ]
  },
  {
   "cell_type": "code",
   "execution_count": null,
   "metadata": {},
   "outputs": [],
   "source": [
    "venues = getNearbyVenues(names=df['Neighbourhood'],latitudes=df['Latitude'],longitudes=df['Longitude'])"
   ]
  },
  {
   "cell_type": "markdown",
   "metadata": {},
   "source": [
    "### Check all venues"
   ]
  },
  {
   "cell_type": "code",
   "execution_count": null,
   "metadata": {},
   "outputs": [],
   "source": [
    "venues.head()"
   ]
  },
  {
   "cell_type": "markdown",
   "metadata": {},
   "source": [
    "### Total no of venues for each Neighbor"
   ]
  },
  {
   "cell_type": "code",
   "execution_count": null,
   "metadata": {},
   "outputs": [],
   "source": [
    "venues.groupby(\"Neighborhood\").count()"
   ]
  },
  {
   "cell_type": "code",
   "execution_count": null,
   "metadata": {},
   "outputs": [],
   "source": [
    "print('There are {} uniques categories.'.format(len(venues['Venue Category'].unique())))"
   ]
  },
  {
   "cell_type": "markdown",
   "metadata": {},
   "source": [
    "### Analyze Each Neighborhood"
   ]
  },
  {
   "cell_type": "code",
   "execution_count": null,
   "metadata": {},
   "outputs": [],
   "source": [
    "# one hot encoding\n",
    "toronto_onehot = pd.get_dummies(venues[['Venue Category']], prefix=\"\", prefix_sep=\"\")\n",
    "\n",
    "# add neighborhood column back to dataframe\n",
    "toronto_onehot['Neighborhood'] = venues['Neighborhood'] \n",
    "\n",
    "# move neighborhood column to the first column\n",
    "fixed_columns = [toronto_onehot.columns[-1]] + list(toronto_onehot.columns[:-1])\n",
    "toronto_onehot = toronto_onehot[fixed_columns]\n",
    "\n",
    "toronto_onehot.head()"
   ]
  },
  {
   "cell_type": "markdown",
   "metadata": {},
   "source": [
    "### Examine dataframe sizes"
   ]
  },
  {
   "cell_type": "code",
   "execution_count": null,
   "metadata": {},
   "outputs": [],
   "source": [
    "toronto_onehot.shape"
   ]
  },
  {
   "cell_type": "markdown",
   "metadata": {},
   "source": [
    "#### Next, let's group rows by neighborhood and by taking the mean of the frequency of occurrence of each category"
   ]
  },
  {
   "cell_type": "code",
   "execution_count": null,
   "metadata": {},
   "outputs": [],
   "source": [
    "toronto_grouped = toronto_onehot.groupby('Neighborhood').mean().reset_index()\n",
    "toronto_grouped"
   ]
  },
  {
   "cell_type": "markdown",
   "metadata": {},
   "source": [
    "#### Get shape"
   ]
  },
  {
   "cell_type": "code",
   "execution_count": null,
   "metadata": {},
   "outputs": [],
   "source": [
    "toronto_grouped.shape"
   ]
  },
  {
   "cell_type": "markdown",
   "metadata": {},
   "source": [
    "#### Let's print each neighborhood along with the top 5 most common venues"
   ]
  },
  {
   "cell_type": "code",
   "execution_count": null,
   "metadata": {},
   "outputs": [],
   "source": [
    "num_top_venues = 5\n",
    "\n",
    "for hood in toronto_grouped['Neighborhood']:\n",
    "    print(\"----\"+hood+\"----\")\n",
    "    temp = toronto_grouped[toronto_grouped['Neighborhood'] == hood].T.reset_index()\n",
    "    temp.columns = ['venue','freq']\n",
    "    temp = temp.iloc[1:]\n",
    "    temp['freq'] = temp['freq'].astype(float)\n",
    "    temp = temp.round({'freq': 2})\n",
    "    print(temp.sort_values('freq', ascending=False).reset_index(drop=True).head(num_top_venues))\n",
    "    print('\\n')\n",
    "    "
   ]
  },
  {
   "cell_type": "markdown",
   "metadata": {},
   "source": [
    "#### Let's put that into a *pandas* dataframe\n",
    "First, let's write a function to sort the venues in descending order."
   ]
  },
  {
   "cell_type": "code",
   "execution_count": null,
   "metadata": {},
   "outputs": [],
   "source": [
    "def return_most_common_venues(row, num_top_venues):\n",
    "    row_categories = row.iloc[1:]\n",
    "    row_categories_sorted = row_categories.sort_values(ascending=False)\n",
    "    \n",
    "    return row_categories_sorted.index.values[0:num_top_venues]"
   ]
  },
  {
   "cell_type": "markdown",
   "metadata": {},
   "source": [
    "Now let's create the new dataframe and display the top 10 venues for each neighborhood."
   ]
  },
  {
   "cell_type": "code",
   "execution_count": null,
   "metadata": {},
   "outputs": [],
   "source": [
    "num_top_venues = 10\n",
    "\n",
    "indicators = ['st', 'nd', 'rd']\n",
    "\n",
    "# create columns according to number of top venues\n",
    "columns = ['Neighborhood']\n",
    "for ind in np.arange(num_top_venues):\n",
    "    try:\n",
    "        columns.append('{}{} Most Common Venue'.format(ind+1, indicators[ind]))\n",
    "    except:\n",
    "        columns.append('{}th Most Common Venue'.format(ind+1))\n",
    "\n",
    "# create a new dataframe\n",
    "neighborhoods_venues_sorted = pd.DataFrame(columns=columns)\n",
    "neighborhoods_venues_sorted['Neighborhood'] = toronto_grouped['Neighborhood']\n",
    "\n",
    "for ind in np.arange(toronto_grouped.shape[0]):\n",
    "    neighborhoods_venues_sorted.iloc[ind, 1:] = return_most_common_venues(toronto_grouped.iloc[ind, :], num_top_venues)\n",
    "\n",
    "neighborhoods_venues_sorted.head()"
   ]
  },
  {
   "cell_type": "markdown",
   "metadata": {},
   "source": [
    "## 4. Cluster Neighborhoods"
   ]
  },
  {
   "cell_type": "code",
   "execution_count": null,
   "metadata": {},
   "outputs": [],
   "source": [
    "# set number of clusters\n",
    "kclusters = 5\n",
    "\n",
    "toronto_grouped_clustering = toronto_grouped.drop('Neighborhood', 1)\n",
    "\n",
    "# run k-means clustering\n",
    "kmeans = KMeans(n_clusters=kclusters, random_state=0).fit(toronto_grouped_clustering)\n",
    "\n",
    "# check cluster labels generated for each row in the dataframe\n",
    "kmeans.labels_[0:10] "
   ]
  },
  {
   "cell_type": "markdown",
   "metadata": {},
   "source": [
    "Let's create a new dataframe that includes the cluster as well as the top 10 venues for each neighborhood."
   ]
  },
  {
   "cell_type": "code",
   "execution_count": null,
   "metadata": {},
   "outputs": [],
   "source": [
    "# add clustering labels\n",
    "neighborhoods_venues_sorted.insert(0, 'Cluster Labels', kmeans.labels_)\n",
    "\n",
    "toronto_merged = toronto_data\n",
    "\n",
    "# merge toronto_grouped with toronto_data to add latitude/longitude for each neighborhood\n",
    "toronto_merged = toronto_merged.join(neighborhoods_venues_sorted.set_index('Neighborhood'), on='Neighbourhood')\n",
    "\n",
    "toronto_merged.head()"
   ]
  },
  {
   "cell_type": "markdown",
   "metadata": {},
   "source": [
    "Finally, let's visualize the resulting clusters"
   ]
  },
  {
   "cell_type": "code",
   "execution_count": null,
   "metadata": {},
   "outputs": [],
   "source": [
    "# create map\n",
    "map_clusters = folium.Map(location=[latitude, longitude], zoom_start=11)\n",
    "\n",
    "# set color scheme for the clusters\n",
    "x = np.arange(kclusters)\n",
    "ys = [i + x + (i*x)**2 for i in range(kclusters)]\n",
    "colors_array = cm.rainbow(np.linspace(0, 1, len(ys)))\n",
    "rainbow = [colors.rgb2hex(i) for i in colors_array]\n",
    "\n",
    "# add markers to the map\n",
    "markers_colors = []\n",
    "for lat, lon, poi, cluster in zip(toronto_merged['Latitude'], toronto_merged['Longitude'], toronto_merged['Neighbourhood'], toronto_merged['Cluster Labels']):\n",
    "    label = folium.Popup(str(poi) + ' Cluster ' + str(cluster), parse_html=True)\n",
    "    folium.CircleMarker(\n",
    "        [lat, lon],\n",
    "        radius=5,\n",
    "        popup=label,\n",
    "        color=rainbow[cluster-1],\n",
    "        fill=True,\n",
    "        fill_color=rainbow[cluster-1],\n",
    "        fill_opacity=0.7).add_to(map_clusters)\n",
    "       \n",
    "map_clusters"
   ]
  },
  {
   "cell_type": "markdown",
   "metadata": {},
   "source": [
    "## 5. Examine Clusters"
   ]
  },
  {
   "cell_type": "markdown",
   "metadata": {},
   "source": [
    "#### Cluster 1"
   ]
  },
  {
   "cell_type": "code",
   "execution_count": 248,
   "metadata": {},
   "outputs": [
    {
     "data": {
      "text/html": [
       "<div>\n",
       "<style scoped>\n",
       "    .dataframe tbody tr th:only-of-type {\n",
       "        vertical-align: middle;\n",
       "    }\n",
       "\n",
       "    .dataframe tbody tr th {\n",
       "        vertical-align: top;\n",
       "    }\n",
       "\n",
       "    .dataframe thead th {\n",
       "        text-align: right;\n",
       "    }\n",
       "</style>\n",
       "<table border=\"1\" class=\"dataframe\">\n",
       "  <thead>\n",
       "    <tr style=\"text-align: right;\">\n",
       "      <th></th>\n",
       "      <th>Borough</th>\n",
       "      <th>Cluster Labels</th>\n",
       "      <th>1st Most Common Venue</th>\n",
       "      <th>2nd Most Common Venue</th>\n",
       "      <th>3rd Most Common Venue</th>\n",
       "      <th>4th Most Common Venue</th>\n",
       "      <th>5th Most Common Venue</th>\n",
       "      <th>6th Most Common Venue</th>\n",
       "      <th>7th Most Common Venue</th>\n",
       "      <th>8th Most Common Venue</th>\n",
       "      <th>9th Most Common Venue</th>\n",
       "      <th>10th Most Common Venue</th>\n",
       "    </tr>\n",
       "  </thead>\n",
       "  <tbody>\n",
       "    <tr>\n",
       "      <th>0</th>\n",
       "      <td>Scarborough</td>\n",
       "      <td>0.0</td>\n",
       "      <td>Fast Food Restaurant</td>\n",
       "      <td>Print Shop</td>\n",
       "      <td>Dumpling Restaurant</td>\n",
       "      <td>Diner</td>\n",
       "      <td>Discount Store</td>\n",
       "      <td>Dog Run</td>\n",
       "      <td>Doner Restaurant</td>\n",
       "      <td>Donut Shop</td>\n",
       "      <td>Drugstore</td>\n",
       "      <td>Eastern European Restaurant</td>\n",
       "    </tr>\n",
       "    <tr>\n",
       "      <th>2</th>\n",
       "      <td>Scarborough</td>\n",
       "      <td>0.0</td>\n",
       "      <td>Medical Center</td>\n",
       "      <td>Spa</td>\n",
       "      <td>Pizza Place</td>\n",
       "      <td>Electronics Store</td>\n",
       "      <td>Rental Car Location</td>\n",
       "      <td>Breakfast Spot</td>\n",
       "      <td>Mexican Restaurant</td>\n",
       "      <td>Donut Shop</td>\n",
       "      <td>Discount Store</td>\n",
       "      <td>Dog Run</td>\n",
       "    </tr>\n",
       "    <tr>\n",
       "      <th>3</th>\n",
       "      <td>Scarborough</td>\n",
       "      <td>0.0</td>\n",
       "      <td>Coffee Shop</td>\n",
       "      <td>Korean Restaurant</td>\n",
       "      <td>Eastern European Restaurant</td>\n",
       "      <td>Discount Store</td>\n",
       "      <td>Dog Run</td>\n",
       "      <td>Doner Restaurant</td>\n",
       "      <td>Donut Shop</td>\n",
       "      <td>Drugstore</td>\n",
       "      <td>Dumpling Restaurant</td>\n",
       "      <td>Women's Store</td>\n",
       "    </tr>\n",
       "    <tr>\n",
       "      <th>4</th>\n",
       "      <td>Scarborough</td>\n",
       "      <td>0.0</td>\n",
       "      <td>Athletics &amp; Sports</td>\n",
       "      <td>Hakka Restaurant</td>\n",
       "      <td>Fried Chicken Joint</td>\n",
       "      <td>Caribbean Restaurant</td>\n",
       "      <td>Thai Restaurant</td>\n",
       "      <td>Bakery</td>\n",
       "      <td>Bank</td>\n",
       "      <td>Drugstore</td>\n",
       "      <td>Dog Run</td>\n",
       "      <td>Doner Restaurant</td>\n",
       "    </tr>\n",
       "    <tr>\n",
       "      <th>5</th>\n",
       "      <td>Scarborough</td>\n",
       "      <td>0.0</td>\n",
       "      <td>Playground</td>\n",
       "      <td>Jewelry Store</td>\n",
       "      <td>Women's Store</td>\n",
       "      <td>Drugstore</td>\n",
       "      <td>Diner</td>\n",
       "      <td>Discount Store</td>\n",
       "      <td>Dog Run</td>\n",
       "      <td>Doner Restaurant</td>\n",
       "      <td>Donut Shop</td>\n",
       "      <td>Dumpling Restaurant</td>\n",
       "    </tr>\n",
       "    <tr>\n",
       "      <th>6</th>\n",
       "      <td>Scarborough</td>\n",
       "      <td>0.0</td>\n",
       "      <td>Department Store</td>\n",
       "      <td>Discount Store</td>\n",
       "      <td>Hobby Shop</td>\n",
       "      <td>Coffee Shop</td>\n",
       "      <td>Chinese Restaurant</td>\n",
       "      <td>Train Station</td>\n",
       "      <td>Drugstore</td>\n",
       "      <td>Diner</td>\n",
       "      <td>Dog Run</td>\n",
       "      <td>Doner Restaurant</td>\n",
       "    </tr>\n",
       "    <tr>\n",
       "      <th>7</th>\n",
       "      <td>Scarborough</td>\n",
       "      <td>0.0</td>\n",
       "      <td>Bakery</td>\n",
       "      <td>Bus Line</td>\n",
       "      <td>Fast Food Restaurant</td>\n",
       "      <td>Intersection</td>\n",
       "      <td>Metro Station</td>\n",
       "      <td>Bus Station</td>\n",
       "      <td>Soccer Field</td>\n",
       "      <td>Park</td>\n",
       "      <td>Costume Shop</td>\n",
       "      <td>Coworking Space</td>\n",
       "    </tr>\n",
       "    <tr>\n",
       "      <th>8</th>\n",
       "      <td>Scarborough</td>\n",
       "      <td>0.0</td>\n",
       "      <td>Motel</td>\n",
       "      <td>American Restaurant</td>\n",
       "      <td>Dim Sum Restaurant</td>\n",
       "      <td>Diner</td>\n",
       "      <td>Discount Store</td>\n",
       "      <td>Dog Run</td>\n",
       "      <td>Doner Restaurant</td>\n",
       "      <td>Donut Shop</td>\n",
       "      <td>Drugstore</td>\n",
       "      <td>Women's Store</td>\n",
       "    </tr>\n",
       "    <tr>\n",
       "      <th>9</th>\n",
       "      <td>Scarborough</td>\n",
       "      <td>0.0</td>\n",
       "      <td>College Stadium</td>\n",
       "      <td>Café</td>\n",
       "      <td>General Entertainment</td>\n",
       "      <td>Skating Rink</td>\n",
       "      <td>Dumpling Restaurant</td>\n",
       "      <td>Discount Store</td>\n",
       "      <td>Dog Run</td>\n",
       "      <td>Doner Restaurant</td>\n",
       "      <td>Donut Shop</td>\n",
       "      <td>Drugstore</td>\n",
       "    </tr>\n",
       "    <tr>\n",
       "      <th>10</th>\n",
       "      <td>Scarborough</td>\n",
       "      <td>0.0</td>\n",
       "      <td>Indian Restaurant</td>\n",
       "      <td>Light Rail Station</td>\n",
       "      <td>Chinese Restaurant</td>\n",
       "      <td>Thrift / Vintage Store</td>\n",
       "      <td>Latin American Restaurant</td>\n",
       "      <td>Brewery</td>\n",
       "      <td>Vietnamese Restaurant</td>\n",
       "      <td>Pet Store</td>\n",
       "      <td>Empanada Restaurant</td>\n",
       "      <td>Ethiopian Restaurant</td>\n",
       "    </tr>\n",
       "    <tr>\n",
       "      <th>11</th>\n",
       "      <td>Scarborough</td>\n",
       "      <td>0.0</td>\n",
       "      <td>Auto Garage</td>\n",
       "      <td>Middle Eastern Restaurant</td>\n",
       "      <td>Sandwich Place</td>\n",
       "      <td>Breakfast Spot</td>\n",
       "      <td>Shopping Mall</td>\n",
       "      <td>Bakery</td>\n",
       "      <td>Dumpling Restaurant</td>\n",
       "      <td>Doner Restaurant</td>\n",
       "      <td>Donut Shop</td>\n",
       "      <td>Drugstore</td>\n",
       "    </tr>\n",
       "    <tr>\n",
       "      <th>12</th>\n",
       "      <td>Scarborough</td>\n",
       "      <td>0.0</td>\n",
       "      <td>Lounge</td>\n",
       "      <td>Sandwich Place</td>\n",
       "      <td>Skating Rink</td>\n",
       "      <td>Breakfast Spot</td>\n",
       "      <td>Women's Store</td>\n",
       "      <td>Dumpling Restaurant</td>\n",
       "      <td>Dog Run</td>\n",
       "      <td>Doner Restaurant</td>\n",
       "      <td>Donut Shop</td>\n",
       "      <td>Drugstore</td>\n",
       "    </tr>\n",
       "    <tr>\n",
       "      <th>13</th>\n",
       "      <td>Scarborough</td>\n",
       "      <td>0.0</td>\n",
       "      <td>Pizza Place</td>\n",
       "      <td>Pharmacy</td>\n",
       "      <td>Thai Restaurant</td>\n",
       "      <td>Noodle House</td>\n",
       "      <td>Chinese Restaurant</td>\n",
       "      <td>Italian Restaurant</td>\n",
       "      <td>Fried Chicken Joint</td>\n",
       "      <td>Fast Food Restaurant</td>\n",
       "      <td>Gift Shop</td>\n",
       "      <td>German Restaurant</td>\n",
       "    </tr>\n",
       "    <tr>\n",
       "      <th>15</th>\n",
       "      <td>Scarborough</td>\n",
       "      <td>0.0</td>\n",
       "      <td>Fast Food Restaurant</td>\n",
       "      <td>Grocery Store</td>\n",
       "      <td>Coffee Shop</td>\n",
       "      <td>Chinese Restaurant</td>\n",
       "      <td>Pharmacy</td>\n",
       "      <td>Pizza Place</td>\n",
       "      <td>Japanese Restaurant</td>\n",
       "      <td>Electronics Store</td>\n",
       "      <td>Breakfast Spot</td>\n",
       "      <td>Sandwich Place</td>\n",
       "    </tr>\n",
       "  </tbody>\n",
       "</table>\n",
       "</div>"
      ],
      "text/plain": [
       "        Borough  Cluster Labels 1st Most Common Venue  \\\n",
       "0   Scarborough             0.0  Fast Food Restaurant   \n",
       "2   Scarborough             0.0        Medical Center   \n",
       "3   Scarborough             0.0           Coffee Shop   \n",
       "4   Scarborough             0.0    Athletics & Sports   \n",
       "5   Scarborough             0.0            Playground   \n",
       "6   Scarborough             0.0      Department Store   \n",
       "7   Scarborough             0.0                Bakery   \n",
       "8   Scarborough             0.0                 Motel   \n",
       "9   Scarborough             0.0       College Stadium   \n",
       "10  Scarborough             0.0     Indian Restaurant   \n",
       "11  Scarborough             0.0           Auto Garage   \n",
       "12  Scarborough             0.0                Lounge   \n",
       "13  Scarborough             0.0           Pizza Place   \n",
       "15  Scarborough             0.0  Fast Food Restaurant   \n",
       "\n",
       "        2nd Most Common Venue        3rd Most Common Venue  \\\n",
       "0                  Print Shop          Dumpling Restaurant   \n",
       "2                         Spa                  Pizza Place   \n",
       "3           Korean Restaurant  Eastern European Restaurant   \n",
       "4            Hakka Restaurant          Fried Chicken Joint   \n",
       "5               Jewelry Store                Women's Store   \n",
       "6              Discount Store                   Hobby Shop   \n",
       "7                    Bus Line         Fast Food Restaurant   \n",
       "8         American Restaurant           Dim Sum Restaurant   \n",
       "9                        Café        General Entertainment   \n",
       "10         Light Rail Station           Chinese Restaurant   \n",
       "11  Middle Eastern Restaurant               Sandwich Place   \n",
       "12             Sandwich Place                 Skating Rink   \n",
       "13                   Pharmacy              Thai Restaurant   \n",
       "15              Grocery Store                  Coffee Shop   \n",
       "\n",
       "     4th Most Common Venue      5th Most Common Venue 6th Most Common Venue  \\\n",
       "0                    Diner             Discount Store               Dog Run   \n",
       "2        Electronics Store        Rental Car Location        Breakfast Spot   \n",
       "3           Discount Store                    Dog Run      Doner Restaurant   \n",
       "4     Caribbean Restaurant            Thai Restaurant                Bakery   \n",
       "5                Drugstore                      Diner        Discount Store   \n",
       "6              Coffee Shop         Chinese Restaurant         Train Station   \n",
       "7             Intersection              Metro Station           Bus Station   \n",
       "8                    Diner             Discount Store               Dog Run   \n",
       "9             Skating Rink        Dumpling Restaurant        Discount Store   \n",
       "10  Thrift / Vintage Store  Latin American Restaurant               Brewery   \n",
       "11          Breakfast Spot              Shopping Mall                Bakery   \n",
       "12          Breakfast Spot              Women's Store   Dumpling Restaurant   \n",
       "13            Noodle House         Chinese Restaurant    Italian Restaurant   \n",
       "15      Chinese Restaurant                   Pharmacy           Pizza Place   \n",
       "\n",
       "    7th Most Common Venue 8th Most Common Venue 9th Most Common Venue  \\\n",
       "0        Doner Restaurant            Donut Shop             Drugstore   \n",
       "2      Mexican Restaurant            Donut Shop        Discount Store   \n",
       "3              Donut Shop             Drugstore   Dumpling Restaurant   \n",
       "4                    Bank             Drugstore               Dog Run   \n",
       "5                 Dog Run      Doner Restaurant            Donut Shop   \n",
       "6               Drugstore                 Diner               Dog Run   \n",
       "7            Soccer Field                  Park          Costume Shop   \n",
       "8        Doner Restaurant            Donut Shop             Drugstore   \n",
       "9                 Dog Run      Doner Restaurant            Donut Shop   \n",
       "10  Vietnamese Restaurant             Pet Store   Empanada Restaurant   \n",
       "11    Dumpling Restaurant      Doner Restaurant            Donut Shop   \n",
       "12                Dog Run      Doner Restaurant            Donut Shop   \n",
       "13    Fried Chicken Joint  Fast Food Restaurant             Gift Shop   \n",
       "15    Japanese Restaurant     Electronics Store        Breakfast Spot   \n",
       "\n",
       "         10th Most Common Venue  \n",
       "0   Eastern European Restaurant  \n",
       "2                       Dog Run  \n",
       "3                 Women's Store  \n",
       "4              Doner Restaurant  \n",
       "5           Dumpling Restaurant  \n",
       "6              Doner Restaurant  \n",
       "7               Coworking Space  \n",
       "8                 Women's Store  \n",
       "9                     Drugstore  \n",
       "10         Ethiopian Restaurant  \n",
       "11                    Drugstore  \n",
       "12                    Drugstore  \n",
       "13            German Restaurant  \n",
       "15               Sandwich Place  "
      ]
     },
     "execution_count": 248,
     "metadata": {},
     "output_type": "execute_result"
    }
   ],
   "source": [
    "toronto_merged.loc[toronto_merged['Cluster Labels'] == 0, toronto_merged.columns[[1] + list(range(5, toronto_merged.shape[1]))]]"
   ]
  },
  {
   "cell_type": "markdown",
   "metadata": {},
   "source": [
    "#### Cluster 2"
   ]
  },
  {
   "cell_type": "code",
   "execution_count": 249,
   "metadata": {},
   "outputs": [
    {
     "data": {
      "text/html": [
       "<div>\n",
       "<style scoped>\n",
       "    .dataframe tbody tr th:only-of-type {\n",
       "        vertical-align: middle;\n",
       "    }\n",
       "\n",
       "    .dataframe tbody tr th {\n",
       "        vertical-align: top;\n",
       "    }\n",
       "\n",
       "    .dataframe thead th {\n",
       "        text-align: right;\n",
       "    }\n",
       "</style>\n",
       "<table border=\"1\" class=\"dataframe\">\n",
       "  <thead>\n",
       "    <tr style=\"text-align: right;\">\n",
       "      <th></th>\n",
       "      <th>Borough</th>\n",
       "      <th>Cluster Labels</th>\n",
       "      <th>1st Most Common Venue</th>\n",
       "      <th>2nd Most Common Venue</th>\n",
       "      <th>3rd Most Common Venue</th>\n",
       "      <th>4th Most Common Venue</th>\n",
       "      <th>5th Most Common Venue</th>\n",
       "      <th>6th Most Common Venue</th>\n",
       "      <th>7th Most Common Venue</th>\n",
       "      <th>8th Most Common Venue</th>\n",
       "      <th>9th Most Common Venue</th>\n",
       "      <th>10th Most Common Venue</th>\n",
       "    </tr>\n",
       "  </thead>\n",
       "  <tbody>\n",
       "    <tr>\n",
       "      <th>14</th>\n",
       "      <td>Scarborough</td>\n",
       "      <td>1.0</td>\n",
       "      <td>Playground</td>\n",
       "      <td>Park</td>\n",
       "      <td>Women's Store</td>\n",
       "      <td>Dumpling Restaurant</td>\n",
       "      <td>Diner</td>\n",
       "      <td>Discount Store</td>\n",
       "      <td>Dog Run</td>\n",
       "      <td>Doner Restaurant</td>\n",
       "      <td>Donut Shop</td>\n",
       "      <td>Drugstore</td>\n",
       "    </tr>\n",
       "  </tbody>\n",
       "</table>\n",
       "</div>"
      ],
      "text/plain": [
       "        Borough  Cluster Labels 1st Most Common Venue 2nd Most Common Venue  \\\n",
       "14  Scarborough             1.0            Playground                  Park   \n",
       "\n",
       "   3rd Most Common Venue 4th Most Common Venue 5th Most Common Venue  \\\n",
       "14         Women's Store   Dumpling Restaurant                 Diner   \n",
       "\n",
       "   6th Most Common Venue 7th Most Common Venue 8th Most Common Venue  \\\n",
       "14        Discount Store               Dog Run      Doner Restaurant   \n",
       "\n",
       "   9th Most Common Venue 10th Most Common Venue  \n",
       "14            Donut Shop              Drugstore  "
      ]
     },
     "execution_count": 249,
     "metadata": {},
     "output_type": "execute_result"
    }
   ],
   "source": [
    "toronto_merged.loc[toronto_merged['Cluster Labels'] == 1, toronto_merged.columns[[1] + list(range(5, toronto_merged.shape[1]))]]"
   ]
  },
  {
   "cell_type": "markdown",
   "metadata": {},
   "source": [
    "#### Cluster 3"
   ]
  },
  {
   "cell_type": "code",
   "execution_count": 250,
   "metadata": {},
   "outputs": [
    {
     "data": {
      "text/html": [
       "<div>\n",
       "<style scoped>\n",
       "    .dataframe tbody tr th:only-of-type {\n",
       "        vertical-align: middle;\n",
       "    }\n",
       "\n",
       "    .dataframe tbody tr th {\n",
       "        vertical-align: top;\n",
       "    }\n",
       "\n",
       "    .dataframe thead th {\n",
       "        text-align: right;\n",
       "    }\n",
       "</style>\n",
       "<table border=\"1\" class=\"dataframe\">\n",
       "  <thead>\n",
       "    <tr style=\"text-align: right;\">\n",
       "      <th></th>\n",
       "      <th>Borough</th>\n",
       "      <th>Cluster Labels</th>\n",
       "      <th>1st Most Common Venue</th>\n",
       "      <th>2nd Most Common Venue</th>\n",
       "      <th>3rd Most Common Venue</th>\n",
       "      <th>4th Most Common Venue</th>\n",
       "      <th>5th Most Common Venue</th>\n",
       "      <th>6th Most Common Venue</th>\n",
       "      <th>7th Most Common Venue</th>\n",
       "      <th>8th Most Common Venue</th>\n",
       "      <th>9th Most Common Venue</th>\n",
       "      <th>10th Most Common Venue</th>\n",
       "    </tr>\n",
       "  </thead>\n",
       "  <tbody>\n",
       "  </tbody>\n",
       "</table>\n",
       "</div>"
      ],
      "text/plain": [
       "Empty DataFrame\n",
       "Columns: [Borough, Cluster Labels, 1st Most Common Venue, 2nd Most Common Venue, 3rd Most Common Venue, 4th Most Common Venue, 5th Most Common Venue, 6th Most Common Venue, 7th Most Common Venue, 8th Most Common Venue, 9th Most Common Venue, 10th Most Common Venue]\n",
       "Index: []"
      ]
     },
     "execution_count": 250,
     "metadata": {},
     "output_type": "execute_result"
    }
   ],
   "source": [
    "toronto_merged.loc[toronto_merged['Cluster Labels'] == 2, toronto_merged.columns[[1] + list(range(5, toronto_merged.shape[1]))]]"
   ]
  },
  {
   "cell_type": "markdown",
   "metadata": {},
   "source": [
    "#### Cluster 4"
   ]
  },
  {
   "cell_type": "code",
   "execution_count": 251,
   "metadata": {},
   "outputs": [
    {
     "data": {
      "text/html": [
       "<div>\n",
       "<style scoped>\n",
       "    .dataframe tbody tr th:only-of-type {\n",
       "        vertical-align: middle;\n",
       "    }\n",
       "\n",
       "    .dataframe tbody tr th {\n",
       "        vertical-align: top;\n",
       "    }\n",
       "\n",
       "    .dataframe thead th {\n",
       "        text-align: right;\n",
       "    }\n",
       "</style>\n",
       "<table border=\"1\" class=\"dataframe\">\n",
       "  <thead>\n",
       "    <tr style=\"text-align: right;\">\n",
       "      <th></th>\n",
       "      <th>Borough</th>\n",
       "      <th>Cluster Labels</th>\n",
       "      <th>1st Most Common Venue</th>\n",
       "      <th>2nd Most Common Venue</th>\n",
       "      <th>3rd Most Common Venue</th>\n",
       "      <th>4th Most Common Venue</th>\n",
       "      <th>5th Most Common Venue</th>\n",
       "      <th>6th Most Common Venue</th>\n",
       "      <th>7th Most Common Venue</th>\n",
       "      <th>8th Most Common Venue</th>\n",
       "      <th>9th Most Common Venue</th>\n",
       "      <th>10th Most Common Venue</th>\n",
       "    </tr>\n",
       "  </thead>\n",
       "  <tbody>\n",
       "  </tbody>\n",
       "</table>\n",
       "</div>"
      ],
      "text/plain": [
       "Empty DataFrame\n",
       "Columns: [Borough, Cluster Labels, 1st Most Common Venue, 2nd Most Common Venue, 3rd Most Common Venue, 4th Most Common Venue, 5th Most Common Venue, 6th Most Common Venue, 7th Most Common Venue, 8th Most Common Venue, 9th Most Common Venue, 10th Most Common Venue]\n",
       "Index: []"
      ]
     },
     "execution_count": 251,
     "metadata": {},
     "output_type": "execute_result"
    }
   ],
   "source": [
    "toronto_merged.loc[toronto_merged['Cluster Labels'] == 3, toronto_merged.columns[[1] + list(range(5, toronto_merged.shape[1]))]]"
   ]
  },
  {
   "cell_type": "markdown",
   "metadata": {},
   "source": [
    "#### Cluster 5"
   ]
  },
  {
   "cell_type": "code",
   "execution_count": 252,
   "metadata": {},
   "outputs": [
    {
     "data": {
      "text/html": [
       "<div>\n",
       "<style scoped>\n",
       "    .dataframe tbody tr th:only-of-type {\n",
       "        vertical-align: middle;\n",
       "    }\n",
       "\n",
       "    .dataframe tbody tr th {\n",
       "        vertical-align: top;\n",
       "    }\n",
       "\n",
       "    .dataframe thead th {\n",
       "        text-align: right;\n",
       "    }\n",
       "</style>\n",
       "<table border=\"1\" class=\"dataframe\">\n",
       "  <thead>\n",
       "    <tr style=\"text-align: right;\">\n",
       "      <th></th>\n",
       "      <th>Borough</th>\n",
       "      <th>Cluster Labels</th>\n",
       "      <th>1st Most Common Venue</th>\n",
       "      <th>2nd Most Common Venue</th>\n",
       "      <th>3rd Most Common Venue</th>\n",
       "      <th>4th Most Common Venue</th>\n",
       "      <th>5th Most Common Venue</th>\n",
       "      <th>6th Most Common Venue</th>\n",
       "      <th>7th Most Common Venue</th>\n",
       "      <th>8th Most Common Venue</th>\n",
       "      <th>9th Most Common Venue</th>\n",
       "      <th>10th Most Common Venue</th>\n",
       "    </tr>\n",
       "  </thead>\n",
       "  <tbody>\n",
       "    <tr>\n",
       "      <th>1</th>\n",
       "      <td>Scarborough</td>\n",
       "      <td>4.0</td>\n",
       "      <td>Bar</td>\n",
       "      <td>Electronics Store</td>\n",
       "      <td>Dog Run</td>\n",
       "      <td>Doner Restaurant</td>\n",
       "      <td>Donut Shop</td>\n",
       "      <td>Drugstore</td>\n",
       "      <td>Dumpling Restaurant</td>\n",
       "      <td>Eastern European Restaurant</td>\n",
       "      <td>Women's Store</td>\n",
       "      <td>Diner</td>\n",
       "    </tr>\n",
       "  </tbody>\n",
       "</table>\n",
       "</div>"
      ],
      "text/plain": [
       "       Borough  Cluster Labels 1st Most Common Venue 2nd Most Common Venue  \\\n",
       "1  Scarborough             4.0                   Bar     Electronics Store   \n",
       "\n",
       "  3rd Most Common Venue 4th Most Common Venue 5th Most Common Venue  \\\n",
       "1               Dog Run      Doner Restaurant            Donut Shop   \n",
       "\n",
       "  6th Most Common Venue 7th Most Common Venue        8th Most Common Venue  \\\n",
       "1             Drugstore   Dumpling Restaurant  Eastern European Restaurant   \n",
       "\n",
       "  9th Most Common Venue 10th Most Common Venue  \n",
       "1         Women's Store                  Diner  "
      ]
     },
     "execution_count": 252,
     "metadata": {},
     "output_type": "execute_result"
    }
   ],
   "source": [
    "toronto_merged.loc[toronto_merged['Cluster Labels'] == 4, toronto_merged.columns[[1] + list(range(5, toronto_merged.shape[1]))]]"
   ]
  }
 ],
 "metadata": {
  "kernelspec": {
   "display_name": "Python 2",
   "language": "python",
   "name": "python2"
  },
  "language_info": {
   "codemirror_mode": {
    "name": "ipython",
    "version": 3
   },
   "file_extension": ".py",
   "mimetype": "text/x-python",
   "name": "python",
   "nbconvert_exporter": "python",
   "pygments_lexer": "ipython3",
   "version": "3.6.4"
  }
 },
 "nbformat": 4,
 "nbformat_minor": 1
}

